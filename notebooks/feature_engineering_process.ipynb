{
 "cells": [
  {
   "metadata": {
    "ExecuteTime": {
     "end_time": "2025-01-28T19:59:06.076Z",
     "start_time": "2025-01-28T19:59:04.910327Z"
    }
   },
   "cell_type": "code",
   "source": [
    "# Import the necessary libraries\n",
    "import numpy as np\n",
    "from src.feature_engineering import create_aggregate_features, extract_time_based_features, encode_categorical_variables, handle_missing_values, normalize_features, standardize_features\n",
    "from src.data_preprocessing import load_data, save_data"
   ],
   "id": "2c1e5bae26fac989",
   "outputs": [],
   "execution_count": 1
  },
  {
   "metadata": {
    "ExecuteTime": {
     "end_time": "2025-01-28T19:59:10.723180Z",
     "start_time": "2025-01-28T19:59:09.817615Z"
    }
   },
   "cell_type": "code",
   "source": [
    "# Load the dataset\n",
    "data_path = \"../data/data.csv\"  # Update with the actual path\n",
    "df = load_data(data_path)"
   ],
   "id": "13e7c9c01254c960",
   "outputs": [],
   "execution_count": 2
  },
  {
   "metadata": {
    "ExecuteTime": {
     "end_time": "2025-01-28T19:59:13.406829Z",
     "start_time": "2025-01-28T19:59:13.139783Z"
    }
   },
   "cell_type": "code",
   "source": [
    "# Step 1: Create Aggregate Features\n",
    "df = create_aggregate_features(df)"
   ],
   "id": "89226c4c3d3c47d",
   "outputs": [],
   "execution_count": 3
  },
  {
   "metadata": {
    "ExecuteTime": {
     "end_time": "2025-01-28T19:59:16.272363Z",
     "start_time": "2025-01-28T19:59:15.572966Z"
    }
   },
   "cell_type": "code",
   "source": [
    "# Step 2: Extract Features\n",
    "df = extract_time_based_features(df)"
   ],
   "id": "99ad93818bfc62f8",
   "outputs": [],
   "execution_count": 4
  },
  {
   "metadata": {
    "ExecuteTime": {
     "end_time": "2025-01-28T19:59:19.763161Z",
     "start_time": "2025-01-28T19:59:18.493457Z"
    }
   },
   "cell_type": "code",
   "source": [
    "# Step 3: Encode Categorical Variables\n",
    "df = encode_categorical_variables(df)"
   ],
   "id": "de9c823d5de22412",
   "outputs": [],
   "execution_count": 5
  },
  {
   "metadata": {
    "ExecuteTime": {
     "end_time": "2025-01-28T19:59:21.622862Z",
     "start_time": "2025-01-28T19:59:21.579616Z"
    }
   },
   "cell_type": "code",
   "source": [
    "# Step 4: Handle Missing Values\n",
    "df = handle_missing_values(df)"
   ],
   "id": "8f547fc65d113610",
   "outputs": [],
   "execution_count": 6
  },
  {
   "metadata": {
    "ExecuteTime": {
     "end_time": "2025-01-28T19:59:23.325742Z",
     "start_time": "2025-01-28T19:59:23.264627Z"
    }
   },
   "cell_type": "code",
   "source": [
    "# Step 5: Normalize/Standardize Numerical Features\n",
    "numerical_columns = df.select_dtypes(include=[np.number]).columns"
   ],
   "id": "151f338d02eee5c4",
   "outputs": [],
   "execution_count": 7
  },
  {
   "metadata": {
    "ExecuteTime": {
     "end_time": "2025-01-28T19:59:25.759307Z",
     "start_time": "2025-01-28T19:59:25.548296Z"
    }
   },
   "cell_type": "code",
   "source": "df = normalize_features(df, numerical_columns)  # Normalize",
   "id": "3bdf9248da9174d",
   "outputs": [],
   "execution_count": 8
  },
  {
   "metadata": {
    "ExecuteTime": {
     "end_time": "2025-01-28T19:59:27.622812Z",
     "start_time": "2025-01-28T19:59:27.453129Z"
    }
   },
   "cell_type": "code",
   "source": "df = standardize_features(df, numerical_columns)  # Standardize",
   "id": "36da96775fcada8b",
   "outputs": [],
   "execution_count": 9
  },
  {
   "metadata": {
    "ExecuteTime": {
     "end_time": "2025-01-28T19:59:34.160736Z",
     "start_time": "2025-01-28T19:59:29.455641Z"
    }
   },
   "cell_type": "code",
   "source": [
    "# Save the processed data\n",
    "processed_data_path = \"../data/processed_transactions.csv\"\n",
    "save_data(df, processed_data_path)"
   ],
   "id": "e7ea4c8ac353b8b5",
   "outputs": [],
   "execution_count": 10
  }
 ],
 "metadata": {
  "kernelspec": {
   "name": "python3",
   "language": "python",
   "display_name": "Python 3 (ipykernel)"
  }
 },
 "nbformat": 5,
 "nbformat_minor": 9
}
