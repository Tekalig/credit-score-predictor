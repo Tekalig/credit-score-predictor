{
 "cells": [
  {
   "cell_type": "code",
   "execution_count": null,
   "metadata": {
    "vscode": {
     "languageId": "plaintext"
    }
   },
   "outputs": [],
   "source": [
    "# Import necessary libraries\n",
    "import pandas as pd\n",
    "import numpy as np\n",
    "import matplotlib.pyplot as plt\n",
    "import seaborn as sns"
   ]
  },
  {
   "cell_type": "code",
   "execution_count": null,
   "metadata": {
    "vscode": {
     "languageId": "plaintext"
    }
   },
   "outputs": [],
   "source": [
    "# Display settings for better visualization\n",
    "sns.set(style=\"whitegrid\")\n",
    "plt.rcParams['figure.figsize'] = (12, 8)"
   ]
  },
  {
   "cell_type": "code",
   "execution_count": null,
   "metadata": {
    "vscode": {
     "languageId": "plaintext"
    }
   },
   "outputs": [],
   "source": [
    "\n",
    "# Example of a mock dataset to demonstrate (you can replace this with your actual data)\n",
    "data = pd.DataFrame({\n",
    "    'TransactionId': [1, 2, 3, 4, 5, 6, 7, 8],\n",
    "    'BatchId': [101, 102, 103, 104, 105, 106, 107, 108],\n",
    "    'AccountId': [201, 202, 203, 204, 205, 206, 207, 208],\n",
    "    'SubscriptionId': [301, 302, 303, 304, 305, 306, 307, 308],\n",
    "    'CustomerId': [401, 402, 403, 404, 405, 406, 407, 408],\n",
    "    'CurrencyCode': ['USD', 'EUR', 'USD', 'GBP', 'USD', 'EUR', 'USD', 'GBP'],\n",
    "    'CountryCode': [1, 44, 1, 44, 1, 44, 1, 44],\n",
    "    'ProviderId': [501, 502, 503, 504, 505, 506, 507, 508],\n",
    "    'ProductId': [601, 602, 603, 604, 605, 606, 607, 608],\n",
    "    'ProductCategory': ['Electronics', 'Fashion', 'Electronics', 'Books', 'Electronics', 'Fashion', 'Books', 'Electronics'],\n",
    "    'ChannelId': ['Web', 'Android', 'IOS', 'PayLater', 'Checkout', 'Web', 'Android', 'IOS'],\n",
    "    'Amount': [200, -150, 300, -50, 500, -300, 100, -250],\n",
    "    'Value': [200, 150, 300, 50, 500, 300, 100, 250],\n",
    "    'TransactionStartTime': pd.to_datetime(['2022-01-01 10:00', '2022-01-02 11:00', '2022-01-03 12:00', '2022-01-04 13:00', \n",
    "                                            '2022-01-05 14:00', '2022-01-06 15:00', '2022-01-07 16:00', '2022-01-08 17:00']),\n",
    "    'PricingStrategy': ['Discount', 'FullPrice', 'Discount', 'FullPrice', 'Discount', 'FullPrice', 'Discount', 'FullPrice'],\n",
    "    'FraudResult': [0, 1, 0, 0, 0, 1, 0, 0]  # 1 means fraud detected, 0 means no fraud\n",
    "})"
   ]
  },
  {
   "cell_type": "code",
   "execution_count": null,
   "metadata": {
    "vscode": {
     "languageId": "plaintext"
    }
   },
   "outputs": [],
   "source": [
    "\n",
    "# Display basic information about the dataset\n",
    "data.info()"
   ]
  },
  {
   "cell_type": "code",
   "execution_count": null,
   "metadata": {
    "vscode": {
     "languageId": "plaintext"
    }
   },
   "outputs": [],
   "source": [
    "\n",
    "# Display summary statistics of numerical features\n",
    "data.describe()"
   ]
  },
  {
   "cell_type": "code",
   "execution_count": null,
   "metadata": {
    "vscode": {
     "languageId": "plaintext"
    }
   },
   "outputs": [],
   "source": [
    "\n",
    "# Visualize the distribution of numerical features\n",
    "sns.histplot(data['Amount'], kde=True, color=\"blue\")\n",
    "plt.title('Distribution of Transaction Amount')\n",
    "plt.show()"
   ]
  },
  {
   "cell_type": "code",
   "execution_count": null,
   "metadata": {
    "vscode": {
     "languageId": "plaintext"
    }
   },
   "outputs": [],
   "source": [
    "sns.histplot(data['Value'], kde=True, color=\"green\")\n",
    "plt.title('Distribution of Transaction Value')\n",
    "plt.show()"
   ]
  },
  {
   "cell_type": "code",
   "execution_count": null,
   "metadata": {
    "vscode": {
     "languageId": "plaintext"
    }
   },
   "outputs": [],
   "source": [
    "\n",
    "# Visualize categorical features\n",
    "sns.countplot(data=data, x='CurrencyCode', palette=\"Set2\")\n",
    "plt.title('Distribution of Currency Code')\n",
    "plt.show()"
   ]
  },
  {
   "cell_type": "code",
   "execution_count": null,
   "metadata": {
    "vscode": {
     "languageId": "plaintext"
    }
   },
   "outputs": [],
   "source": [
    "\n",
    "sns.countplot(data=data, x='ProductCategory', palette=\"Set2\")\n",
    "plt.title('Distribution of Product Categories')\n",
    "plt.show()"
   ]
  },
  {
   "cell_type": "code",
   "execution_count": null,
   "metadata": {
    "vscode": {
     "languageId": "plaintext"
    }
   },
   "outputs": [],
   "source": [
    "\n",
    "sns.countplot(data=data, x='ChannelId', palette=\"Set2\")\n",
    "plt.title('Distribution of Channels Used')\n",
    "plt.show()"
   ]
  },
  {
   "cell_type": "code",
   "execution_count": null,
   "metadata": {
    "vscode": {
     "languageId": "plaintext"
    }
   },
   "outputs": [],
   "source": [
    "\n",
    "# Correlation analysis for numerical features\n",
    "corr_matrix = data[['Amount', 'Value']].corr()\n",
    "sns.heatmap(corr_matrix, annot=True, cmap='coolwarm', fmt=\".2f\")\n",
    "plt.title('Correlation Matrix between Amount and Value')\n",
    "plt.show()"
   ]
  },
  {
   "cell_type": "code",
   "execution_count": null,
   "metadata": {
    "vscode": {
     "languageId": "plaintext"
    }
   },
   "outputs": [],
   "source": [
    "\n",
    "# Checking for missing values\n",
    "missing_values = data.isnull().sum()\n",
    "print(f\"Missing values in each column:\\n{missing_values}\")"
   ]
  },
  {
   "cell_type": "code",
   "execution_count": null,
   "metadata": {
    "vscode": {
     "languageId": "plaintext"
    }
   },
   "outputs": [],
   "source": [
    "\n",
    "# Identifying outliers using boxplots for Amount and Value\n",
    "plt.figure(figsize=(12, 6))\n",
    "sns.boxplot(data=data[['Amount', 'Value']])\n",
    "plt.title('Boxplot of Amount and Value')\n",
    "plt.show()"
   ]
  },
  {
   "cell_type": "code",
   "execution_count": null,
   "metadata": {
    "vscode": {
     "languageId": "plaintext"
    }
   },
   "outputs": [],
   "source": [
    "\n",
    "# Visualizing Fraud Cases\n",
    "sns.countplot(data=data, x='FraudResult', palette=\"Set1\")\n",
    "plt.title('Distribution of Fraud Results')\n",
    "plt.show()"
   ]
  },
  {
   "cell_type": "code",
   "execution_count": null,
   "metadata": {
    "vscode": {
     "languageId": "plaintext"
    }
   },
   "outputs": [],
   "source": [
    "\n",
    "# Creating new feature: Transaction Duration (example)\n",
    "data['TransactionDuration'] = (data['TransactionStartTime'] - data['TransactionStartTime'].min()).dt.total_seconds()\n"
   ]
  },
  {
   "cell_type": "code",
   "execution_count": null,
   "metadata": {
    "vscode": {
     "languageId": "plaintext"
    }
   },
   "outputs": [],
   "source": [
    "\n",
    "# Visualizing the new feature\n",
    "sns.histplot(data['TransactionDuration'], kde=True, color=\"purple\")\n",
    "plt.title('Distribution of Transaction Duration')\n",
    "plt.show()"
   ]
  },
  {
   "cell_type": "code",
   "execution_count": null,
   "metadata": {
    "vscode": {
     "languageId": "plaintext"
    }
   },
   "outputs": [],
   "source": [
    "\n",
    "# Display the first few rows of the dataset to get a sense of the data\n",
    "data.head()"
   ]
  }
 ],
 "metadata": {
  "language_info": {
   "name": "python"
  }
 },
 "nbformat": 4,
 "nbformat_minor": 2
}
